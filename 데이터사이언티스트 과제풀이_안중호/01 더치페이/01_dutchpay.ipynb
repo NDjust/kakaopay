{
 "cells": [
  {
   "cell_type": "code",
   "execution_count": 1,
   "metadata": {},
   "outputs": [
    {
     "name": "stderr",
     "output_type": "stream",
     "text": [
      "─ \u001b[1mAttaching packages\u001b[22m ──────────────────── tidyverse 1.3.0 ─\n",
      "\n",
      "\u001b[32m✔\u001b[39m \u001b[34mggplot2\u001b[39m 3.3.0     \u001b[32m✔\u001b[39m \u001b[34mpurrr  \u001b[39m 0.3.3\n",
      "\u001b[32m✔\u001b[39m \u001b[34mtibble \u001b[39m 3.0.0     \u001b[32m✔\u001b[39m \u001b[34mdplyr  \u001b[39m 0.8.5\n",
      "\u001b[32m✔\u001b[39m \u001b[34mtidyr  \u001b[39m 1.0.2     \u001b[32m✔\u001b[39m \u001b[34mstringr\u001b[39m 1.4.0\n",
      "\u001b[32m✔\u001b[39m \u001b[34mreadr  \u001b[39m 1.3.1     \u001b[32m✔\u001b[39m \u001b[34mforcats\u001b[39m 0.5.0\n",
      "\n",
      "─ \u001b[1mConflicts\u001b[22m ───────────────────── tidyverse_conflicts() ─\n",
      "\u001b[31m✖\u001b[39m \u001b[34mdplyr\u001b[39m::\u001b[32mfilter()\u001b[39m masks \u001b[34mstats\u001b[39m::filter()\n",
      "\u001b[31m✖\u001b[39m \u001b[34mdplyr\u001b[39m::\u001b[32mlag()\u001b[39m    masks \u001b[34mstats\u001b[39m::lag()\n",
      "\n"
     ]
    }
   ],
   "source": [
    "library(tidyverse)"
   ]
  },
  {
   "cell_type": "code",
   "execution_count": 5,
   "metadata": {},
   "outputs": [
    {
     "name": "stderr",
     "output_type": "stream",
     "text": [
      "Parsed with column specification:\n",
      "cols(\n",
      "  user_id = \u001b[31mcol_character()\u001b[39m,\n",
      "  gender_cd = \u001b[32mcol_double()\u001b[39m,\n",
      "  age = \u001b[32mcol_double()\u001b[39m,\n",
      "  foreigner_yn = \u001b[31mcol_character()\u001b[39m,\n",
      "  os_type = \u001b[31mcol_character()\u001b[39m\n",
      ")\n",
      "\n",
      "Parsed with column specification:\n",
      "cols(\n",
      "  claim_id = \u001b[32mcol_double()\u001b[39m,\n",
      "  claim_at = \u001b[34mcol_datetime(format = \"\")\u001b[39m,\n",
      "  claim_user_id = \u001b[31mcol_character()\u001b[39m\n",
      ")\n",
      "\n",
      "Parsed with column specification:\n",
      "cols(\n",
      "  claim_detail_id = \u001b[32mcol_double()\u001b[39m,\n",
      "  claim_id = \u001b[32mcol_double()\u001b[39m,\n",
      "  recv_user_id = \u001b[31mcol_character()\u001b[39m,\n",
      "  claim_amount = \u001b[32mcol_double()\u001b[39m,\n",
      "  send_amount = \u001b[32mcol_double()\u001b[39m,\n",
      "  status = \u001b[31mcol_character()\u001b[39m\n",
      ")\n",
      "\n"
     ]
    }
   ],
   "source": [
    "users <- read_csv('users.csv')\n",
    "dutchpay_claim <- read_csv('dutchpay_claim.csv')\n",
    "dutchpay_claim_detail <- read_csv('dutchpay_claim_detail.csv')\n",
    "# a_payment_trx <- read_csv('a_payment_trx.csv')"
   ]
  },
  {
   "cell_type": "code",
   "execution_count": 6,
   "metadata": {},
   "outputs": [
    {
     "name": "stdout",
     "output_type": "stream",
     "text": [
      "Rows: 123,924\n",
      "Columns: 5\n",
      "$ user_id      \u001b[3m\u001b[38;5;246m<chr>\u001b[39m\u001b[23m \"01509a0865440e0\", \"7d4697fbadb1c09\", \"7b2a7724faf1400\"…\n",
      "$ gender_cd    \u001b[3m\u001b[38;5;246m<dbl>\u001b[39m\u001b[23m 2, 1, 1, 1, 2, 2, 2, 2, 1, 2, 2, 2, 2, 2, 1, 2, 2, 2, 1…\n",
      "$ age          \u001b[3m\u001b[38;5;246m<dbl>\u001b[39m\u001b[23m 32, 27, 26, 25, 31, 29, 37, 36, 28, 30, 32, 32, 40, 24,…\n",
      "$ foreigner_yn \u001b[3m\u001b[38;5;246m<chr>\u001b[39m\u001b[23m \"N\", \"N\", \"N\", \"N\", \"N\", \"N\", \"N\", \"N\", \"N\", \"N\", \"N\", …\n",
      "$ os_type      \u001b[3m\u001b[38;5;246m<chr>\u001b[39m\u001b[23m \"A\", \"A\", \"A\", \"B\", \"A\", \"A\", \"A\", \"A\", \"A\", \"A\", \"A\", …\n",
      "Rows: 159,194\n",
      "Columns: 3\n",
      "$ claim_id      \u001b[3m\u001b[38;5;246m<dbl>\u001b[39m\u001b[23m 4420721, 4420704, 4454342, 4453683, 4348820, 4209764, …\n",
      "$ claim_at      \u001b[3m\u001b[38;5;246m<dttm>\u001b[39m\u001b[23m 2020-02-07 15:29:18, 2020-02-07 15:26:54, 2020-02-10 …\n",
      "$ claim_user_id \u001b[3m\u001b[38;5;246m<chr>\u001b[39m\u001b[23m \"5cbd74112c55a0a\", \"5cbd74112c55a0a\", \"f077bc4ec8fd0ef…\n",
      "Rows: 557,644\n",
      "Columns: 6\n",
      "$ claim_detail_id \u001b[3m\u001b[38;5;246m<dbl>\u001b[39m\u001b[23m 12918735, 12918734, 12829743, 12829742, 12829741, 12…\n",
      "$ claim_id        \u001b[3m\u001b[38;5;246m<dbl>\u001b[39m\u001b[23m 4075714, 4075714, 4049182, 4049182, 4049182, 4049182…\n",
      "$ recv_user_id    \u001b[3m\u001b[38;5;246m<chr>\u001b[39m\u001b[23m \"39476d42bd5f268\", \"a84a2bf8ab324d3\", \"810b763a8f463…\n",
      "$ claim_amount    \u001b[3m\u001b[38;5;246m<dbl>\u001b[39m\u001b[23m 4, 4, 11750, 11750, 11750, 11750, 9500, 9500, 9500, …\n",
      "$ send_amount     \u001b[3m\u001b[38;5;246m<dbl>\u001b[39m\u001b[23m NA, 4, NA, NA, NA, 11750, NA, NA, NA, 9500, 12000, 1…\n",
      "$ status          \u001b[3m\u001b[38;5;246m<chr>\u001b[39m\u001b[23m \"CLAIM\", \"CHECK\", \"CLAIM\", \"CLAIM\", \"CLAIM\", \"CHECK\"…\n"
     ]
    }
   ],
   "source": [
    "glimpse(users)\n",
    "glimpse(dutchpay_claim)\n",
    "glimpse(dutchpay_claim_detail)\n",
    "# glimpse(a_payment_trx)"
   ]
  },
  {
   "cell_type": "markdown",
   "metadata": {},
   "source": [
    "1) '더치페이 요청에 대한 응답률이 높을수록 더치페이 서비스를 더 많이 사용한다'라는 가설을 통계적으로 검정하시오\n",
    "> 해당 가설 검정 방법을 선택한 이유와 함께 전체 검정 과정을 기술하시오"
   ]
  },
  {
   "cell_type": "code",
   "execution_count": 7,
   "metadata": {},
   "outputs": [
    {
     "name": "stdout",
     "output_type": "stream",
     "text": [
      "Rows: 557,784\n",
      "Columns: 8\n",
      "$ claim_id        \u001b[3m\u001b[38;5;246m<dbl>\u001b[39m\u001b[23m 4420721, 4420721, 4420721, 4420721, 4420704, 4420704…\n",
      "$ claim_at        \u001b[3m\u001b[38;5;246m<dttm>\u001b[39m\u001b[23m 2020-02-07 15:29:18, 2020-02-07 15:29:18, 2020-02-0…\n",
      "$ claim_user_id   \u001b[3m\u001b[38;5;246m<chr>\u001b[39m\u001b[23m \"5cbd74112c55a0a\", \"5cbd74112c55a0a\", \"5cbd74112c55a…\n",
      "$ claim_detail_id \u001b[3m\u001b[38;5;246m<dbl>\u001b[39m\u001b[23m 14115935, 14115933, 14115932, 14115934, 14115887, 14…\n",
      "$ recv_user_id    \u001b[3m\u001b[38;5;246m<chr>\u001b[39m\u001b[23m \"e97b2a81b8cc38e\", \"b76fb84848485e9\", \"5cbd74112c55a…\n",
      "$ claim_amount    \u001b[3m\u001b[38;5;246m<dbl>\u001b[39m\u001b[23m 13000, 13000, 13000, 13000, 13166, 13166, 13166, 131…\n",
      "$ send_amount     \u001b[3m\u001b[38;5;246m<dbl>\u001b[39m\u001b[23m NA, NA, 13000, 13000, NA, NA, 13166, NA, NA, NA, 128…\n",
      "$ status          \u001b[3m\u001b[38;5;246m<chr>\u001b[39m\u001b[23m \"CLAIM\", \"CLAIM\", \"CHECK\", \"SEND\", \"CLAIM\", \"CLAIM\",…\n"
     ]
    }
   ],
   "source": [
    "dutchpay_claim_total <- left_join(dutchpay_claim, dutchpay_claim_detail, \n",
    "                                  by = 'claim_id')\n",
    "glimpse(dutchpay_claim_total)"
   ]
  },
  {
   "cell_type": "code",
   "execution_count": 10,
   "metadata": {},
   "outputs": [
    {
     "name": "stdout",
     "output_type": "stream",
     "text": [
      "Rows: 557,784\n",
      "Columns: 12\n",
      "$ claim_id        \u001b[3m\u001b[38;5;246m<dbl>\u001b[39m\u001b[23m 4420721, 4420721, 4420721, 4420721, 4420704, 4420704…\n",
      "$ claim_at        \u001b[3m\u001b[38;5;246m<dttm>\u001b[39m\u001b[23m 2020-02-07 15:29:18, 2020-02-07 15:29:18, 2020-02-0…\n",
      "$ claim_user_id   \u001b[3m\u001b[38;5;246m<chr>\u001b[39m\u001b[23m \"5cbd74112c55a0a\", \"5cbd74112c55a0a\", \"5cbd74112c55a…\n",
      "$ claim_detail_id \u001b[3m\u001b[38;5;246m<dbl>\u001b[39m\u001b[23m 14115935, 14115933, 14115932, 14115934, 14115887, 14…\n",
      "$ recv_user_id    \u001b[3m\u001b[38;5;246m<chr>\u001b[39m\u001b[23m \"e97b2a81b8cc38e\", \"b76fb84848485e9\", \"5cbd74112c55a…\n",
      "$ claim_amount    \u001b[3m\u001b[38;5;246m<dbl>\u001b[39m\u001b[23m 13000, 13000, 13000, 13000, 13166, 13166, 13166, 131…\n",
      "$ send_amount     \u001b[3m\u001b[38;5;246m<dbl>\u001b[39m\u001b[23m NA, NA, 13000, 13000, NA, NA, 13166, NA, NA, NA, 128…\n",
      "$ status          \u001b[3m\u001b[38;5;246m<chr>\u001b[39m\u001b[23m \"CLAIM\", \"CLAIM\", \"CHECK\", \"SEND\", \"CLAIM\", \"CLAIM\",…\n",
      "$ gender_cd       \u001b[3m\u001b[38;5;246m<dbl>\u001b[39m\u001b[23m 1, 1, 1, 1, 1, 1, 1, 1, 1, 1, 1, 1, 1, 1, 1, 1, 1, 1…\n",
      "$ age             \u001b[3m\u001b[38;5;246m<dbl>\u001b[39m\u001b[23m 28, 28, 28, 28, 28, 28, 28, 28, 28, 28, 28, 28, 28, …\n",
      "$ foreigner_yn    \u001b[3m\u001b[38;5;246m<chr>\u001b[39m\u001b[23m \"N\", \"N\", \"N\", \"N\", \"N\", \"N\", \"N\", \"N\", \"N\", \"N\", \"N…\n",
      "$ os_type         \u001b[3m\u001b[38;5;246m<chr>\u001b[39m\u001b[23m \"A\", \"A\", \"A\", \"A\", \"A\", \"A\", \"A\", \"A\", \"A\", \"A\", \"B…\n"
     ]
    }
   ],
   "source": [
    "users_dutchpay_claim_total <- left_join(dutchpay_claim_total, users,  \n",
    "                                        by = c('claim_user_id' = 'user_id'))\n",
    "glimpse(users_dutchpay_claim_total)"
   ]
  },
  {
   "cell_type": "markdown",
   "metadata": {},
   "source": [
    "- 응답률의 정의 :\n",
    "\n",
    "더치페이는 한 사람이 여러사람에게 요청한다. 요청받은 사람들 중 응답(송금SEND) 한 숫자가 많을수록 응답률이 높다고 할 수 있다.\n",
    "\n",
    "> 응답률 : claim_id당 status의 CLAIM 갯수 대비 SEND 갯수 비율"
   ]
  },
  {
   "cell_type": "markdown",
   "metadata": {},
   "source": [
    "- claim_id당 status의 CLAIM 갯수"
   ]
  },
  {
   "cell_type": "code",
   "execution_count": 13,
   "metadata": {},
   "outputs": [
    {
     "name": "stdout",
     "output_type": "stream",
     "text": [
      "Rows: 125,737\n",
      "Columns: 2\n",
      "$ claim_id \u001b[3m\u001b[38;5;246m<dbl>\u001b[39m\u001b[23m 3710950, 3710972, 3710973, 3710977, 3710987, 3711012, 37110…\n",
      "$ claim_n  \u001b[3m\u001b[38;5;246m<int>\u001b[39m\u001b[23m 2, 4, 4, 3, 2, 3, 3, 1, 1, 1, 2, 2, 2, 1, 1, 1, 2, 1, 3, 2,…\n"
     ]
    }
   ],
   "source": [
    "users_dutchpay_claim_total %>% \n",
    "    group_by(claim_id) %>%\n",
    "    filter(status == 'CLAIM') %>% \n",
    "    summarise(claim_n = n()) -> users_dutchpay_claim_count\n",
    "glimpse(users_dutchpay_claim_count)"
   ]
  },
  {
   "cell_type": "markdown",
   "metadata": {},
   "source": [
    "- claim_id당 status의 SEND 갯수"
   ]
  },
  {
   "cell_type": "code",
   "execution_count": 22,
   "metadata": {},
   "outputs": [
    {
     "name": "stdout",
     "output_type": "stream",
     "text": [
      "Rows: 153,805\n",
      "Columns: 13\n",
      "Groups: claim_id [87,360]\n",
      "$ claim_id        \u001b[3m\u001b[38;5;246m<dbl>\u001b[39m\u001b[23m 4420721, 4454342, 4454342, 4454342, 4454342, 4453683…\n",
      "$ claim_at        \u001b[3m\u001b[38;5;246m<dttm>\u001b[39m\u001b[23m 2020-02-07 15:29:18, 2020-02-10 19:18:31, 2020-02-1…\n",
      "$ claim_user_id   \u001b[3m\u001b[38;5;246m<chr>\u001b[39m\u001b[23m \"5cbd74112c55a0a\", \"f077bc4ec8fd0ef\", \"f077bc4ec8fd0…\n",
      "$ claim_detail_id \u001b[3m\u001b[38;5;246m<dbl>\u001b[39m\u001b[23m 14115934, 14234736, 14234735, 14234734, 14234733, 14…\n",
      "$ recv_user_id    \u001b[3m\u001b[38;5;246m<chr>\u001b[39m\u001b[23m \"c76d85ff6b23d31\", \"964cc5e24331673\", \"1f7c25076223d…\n",
      "$ claim_amount    \u001b[3m\u001b[38;5;246m<dbl>\u001b[39m\u001b[23m 13000, 12800, 12800, 12800, 12800, 20000, 20000, 200…\n",
      "$ send_amount     \u001b[3m\u001b[38;5;246m<dbl>\u001b[39m\u001b[23m 13000, 12800, 12800, 12800, 12800, 20000, 20000, 200…\n",
      "$ status          \u001b[3m\u001b[38;5;246m<chr>\u001b[39m\u001b[23m \"SEND\", \"SEND\", \"SEND\", \"SEND\", \"SEND\", \"SEND\", \"SEN…\n",
      "$ gender_cd       \u001b[3m\u001b[38;5;246m<dbl>\u001b[39m\u001b[23m 1, 1, 1, 1, 1, 1, 1, 1, 1, 1, 1, 1, 1, 1, 1, 1, 1, 1…\n",
      "$ age             \u001b[3m\u001b[38;5;246m<dbl>\u001b[39m\u001b[23m 28, 28, 28, 28, 28, 28, 28, 28, 28, 28, 28, 28, 21, …\n",
      "$ foreigner_yn    \u001b[3m\u001b[38;5;246m<chr>\u001b[39m\u001b[23m \"N\", \"N\", \"N\", \"N\", \"N\", \"N\", \"N\", \"N\", \"N\", \"N\", \"N…\n",
      "$ os_type         \u001b[3m\u001b[38;5;246m<chr>\u001b[39m\u001b[23m \"A\", \"B\", \"B\", \"B\", \"B\", \"B\", \"B\", \"B\", \"B\", \"B\", \"B…\n",
      "$ send_n          \u001b[3m\u001b[38;5;246m<int>\u001b[39m\u001b[23m 1, 4, 4, 4, 4, 6, 6, 6, 6, 6, 6, 1, 1, 2, 2, 2, 2, 1…\n"
     ]
    }
   ],
   "source": [
    "users_dutchpay_claim_total %>% \n",
    "    group_by(claim_id) %>%\n",
    "    filter(status == 'SEND') %>% \n",
    "    mutate(send_n = n()) -> users_dutchpay_send_count\n",
    "glimpse(users_dutchpay_send_count)"
   ]
  },
  {
   "cell_type": "code",
   "execution_count": 23,
   "metadata": {},
   "outputs": [
    {
     "name": "stderr",
     "output_type": "stream",
     "text": [
      "Joining, by = \"claim_id\"\n",
      "\n"
     ]
    },
    {
     "name": "stdout",
     "output_type": "stream",
     "text": [
      "Rows: 169,005\n",
      "Columns: 14\n",
      "$ claim_id        \u001b[3m\u001b[38;5;246m<dbl>\u001b[39m\u001b[23m 3710950, 3710972, 3710973, 3710977, 3710987, 3711012…\n",
      "$ claim_n         \u001b[3m\u001b[38;5;246m<int>\u001b[39m\u001b[23m 2, 4, 4, 3, 2, 3, 3, 1, 1, 1, 1, 1, 2, 2, 2, 1, 1, 1…\n",
      "$ claim_at        \u001b[3m\u001b[38;5;246m<dttm>\u001b[39m\u001b[23m NA, NA, NA, NA, NA, 2019-12-01 00:07:44, NA, 2019-1…\n",
      "$ claim_user_id   \u001b[3m\u001b[38;5;246m<chr>\u001b[39m\u001b[23m NA, NA, NA, NA, NA, \"fc475584f568eb5\", NA, \"1dee7537…\n",
      "$ claim_detail_id \u001b[3m\u001b[38;5;246m<dbl>\u001b[39m\u001b[23m NA, NA, NA, NA, NA, 11640399, NA, 11640447, 11640446…\n",
      "$ recv_user_id    \u001b[3m\u001b[38;5;246m<chr>\u001b[39m\u001b[23m NA, NA, NA, NA, NA, \"49e35c4ede65249\", NA, \"ecf74635…\n",
      "$ claim_amount    \u001b[3m\u001b[38;5;246m<dbl>\u001b[39m\u001b[23m NA, NA, NA, NA, NA, 5260, NA, 6250, 6250, 52000, 520…\n",
      "$ send_amount     \u001b[3m\u001b[38;5;246m<dbl>\u001b[39m\u001b[23m NA, NA, NA, NA, NA, 5260, NA, 6250, 6250, 52000, 520…\n",
      "$ status          \u001b[3m\u001b[38;5;246m<chr>\u001b[39m\u001b[23m NA, NA, NA, NA, NA, \"SEND\", NA, \"SEND\", \"SEND\", \"SEN…\n",
      "$ gender_cd       \u001b[3m\u001b[38;5;246m<dbl>\u001b[39m\u001b[23m NA, NA, NA, NA, NA, 2, NA, 2, 2, 2, 2, 2, NA, NA, NA…\n",
      "$ age             \u001b[3m\u001b[38;5;246m<dbl>\u001b[39m\u001b[23m NA, NA, NA, NA, NA, 34, NA, 26, 26, 31, 31, 22, NA, …\n",
      "$ foreigner_yn    \u001b[3m\u001b[38;5;246m<chr>\u001b[39m\u001b[23m NA, NA, NA, NA, NA, \"N\", NA, \"N\", \"N\", \"N\", \"N\", \"N\"…\n",
      "$ os_type         \u001b[3m\u001b[38;5;246m<chr>\u001b[39m\u001b[23m NA, NA, NA, NA, NA, \"A\", NA, \"A\", \"A\", \"A\", \"A\", \"A\"…\n",
      "$ send_n          \u001b[3m\u001b[38;5;246m<int>\u001b[39m\u001b[23m NA, NA, NA, NA, NA, 1, NA, 2, 2, 2, 2, 1, NA, NA, NA…\n"
     ]
    }
   ],
   "source": [
    "users_dutchpay_claim_send <- left_join(users_dutchpay_claim_count, users_dutchpay_send_count)\n",
    "glimpse(users_dutchpay_claim_send)"
   ]
  },
  {
   "cell_type": "code",
   "execution_count": 24,
   "metadata": {},
   "outputs": [],
   "source": [
    "users_dutchpay_claim_send$send_n <- replace(users_dutchpay_claim_send$send_n, \n",
    "                                            is.na(users_dutchpay_claim_send$send_n),\n",
    "                                            0)\n",
    "users_dutchpay_claim_send %>% \n",
    "    select(claim_id, claim_n, send_n) %>%\n",
    "    mutate(response = send_n / claim_n) -> users_dutchpay_response"
   ]
  },
  {
   "cell_type": "code",
   "execution_count": 25,
   "metadata": {},
   "outputs": [
    {
     "name": "stdout",
     "output_type": "stream",
     "text": [
      "Rows: 169,005\n",
      "Columns: 4\n",
      "$ claim_id \u001b[3m\u001b[38;5;246m<dbl>\u001b[39m\u001b[23m 3710950, 3710972, 3710973, 3710977, 3710987, 3711012, 37110…\n",
      "$ claim_n  \u001b[3m\u001b[38;5;246m<int>\u001b[39m\u001b[23m 2, 4, 4, 3, 2, 3, 3, 1, 1, 1, 1, 1, 2, 2, 2, 1, 1, 1, 2, 1,…\n",
      "$ send_n   \u001b[3m\u001b[38;5;246m<dbl>\u001b[39m\u001b[23m 0, 0, 0, 0, 0, 1, 0, 2, 2, 2, 2, 1, 0, 0, 0, 1, 0, 0, 0, 2,…\n",
      "$ response \u001b[3m\u001b[38;5;246m<dbl>\u001b[39m\u001b[23m 0.0000000, 0.0000000, 0.0000000, 0.0000000, 0.0000000, 0.33…\n"
     ]
    },
    {
     "data": {
      "image/png": "[encoded data removed]",
      "text/plain": [
       "Plot with title “Histogram of users_dutchpay_response$response”"
      ]
     },
     "metadata": {
      "image/png": {
       "height": 420,
       "width": 420
      },
      "text/plain": {
       "height": 420,
       "width": 420
      }
     },
     "output_type": "display_data"
    }
   ],
   "source": [
    "glimpse(users_dutchpay_response)\n",
    "hist(users_dutchpay_response$response)"
   ]
  },
  {
   "cell_type": "markdown",
   "metadata": {},
   "source": [
    "- 더치페이 서비스 사용량의 정의 :\n",
    "\n",
    "\"더치페이 요청에 대한 응답률이 높을수록 더치페이 서비스를 **'더 많이 사용'**한다.\"는 가설 문장의 맥락을 파악하면 '응답이 많을수록 **요청**기능을 을 더 많이 실행한다'라고 해석할 수 있다. 여기서의 '사용'은 요청(CLAIM)을 의미한다.\n",
    "> 사용량 : claim_id당 status의 CLAIM 갯수"
   ]
  },
  {
   "cell_type": "code",
   "execution_count": 26,
   "metadata": {},
   "outputs": [
    {
     "data": {
      "text/html": [
       "557784"
      ],
      "text/latex": [
       "557784"
      ],
      "text/markdown": [
       "557784"
      ],
      "text/plain": [
       "[1] 557784"
      ]
     },
     "metadata": {},
     "output_type": "display_data"
    },
    {
     "data": {
      "text/html": [
       "159194"
      ],
      "text/latex": [
       "159194"
      ],
      "text/markdown": [
       "159194"
      ],
      "text/plain": [
       "[1] 159194"
      ]
     },
     "metadata": {},
     "output_type": "display_data"
    }
   ],
   "source": [
    "length(users_dutchpay_claim_total$claim_id)\n",
    "length(unique(users_dutchpay_claim_total$claim_id))"
   ]
  },
  {
   "cell_type": "code",
   "execution_count": 30,
   "metadata": {},
   "outputs": [],
   "source": [
    "users_dutchpay_response %>% \n",
    "    group_by(claim_id) %>%\n",
    "    summarize(claim_no = n()) -> users_dutchpay_usage"
   ]
  },
  {
   "cell_type": "code",
   "execution_count": 31,
   "metadata": {},
   "outputs": [
    {
     "name": "stdout",
     "output_type": "stream",
     "text": [
      "Rows: 169,005\n",
      "Columns: 5\n",
      "$ claim_id \u001b[3m\u001b[38;5;246m<dbl>\u001b[39m\u001b[23m 3710950, 3710972, 3710973, 3710977, 3710987, 3711012, 37110…\n",
      "$ claim_no \u001b[3m\u001b[38;5;246m<int>\u001b[39m\u001b[23m 1, 1, 1, 1, 1, 1, 1, 2, 2, 2, 2, 1, 1, 1, 1, 1, 1, 1, 1, 2,…\n",
      "$ claim_n  \u001b[3m\u001b[38;5;246m<int>\u001b[39m\u001b[23m 2, 4, 4, 3, 2, 3, 3, 1, 1, 1, 1, 1, 2, 2, 2, 1, 1, 1, 2, 1,…\n",
      "$ send_n   \u001b[3m\u001b[38;5;246m<dbl>\u001b[39m\u001b[23m 0, 0, 0, 0, 0, 1, 0, 2, 2, 2, 2, 1, 0, 0, 0, 1, 0, 0, 0, 2,…\n",
      "$ response \u001b[3m\u001b[38;5;246m<dbl>\u001b[39m\u001b[23m 0.0000000, 0.0000000, 0.0000000, 0.0000000, 0.0000000, 0.33…\n"
     ]
    },
    {
     "data": {
      "text/plain": [
       "    claim_id          claim_no     claim_n           send_n      \n",
       " Min.   :3710950   Min.   : 1   Min.   : 1.000   Min.   : 0.000  \n",
       " 1st Qu.:3951767   1st Qu.: 1   1st Qu.: 1.000   1st Qu.: 0.000  \n",
       " Median :4201381   Median : 1   Median : 2.000   Median : 1.000  \n",
       " Mean   :4201192   Mean   : 2   Mean   : 2.182   Mean   : 1.594  \n",
       " 3rd Qu.:4449283   3rd Qu.: 2   3rd Qu.: 3.000   3rd Qu.: 2.000  \n",
       " Max.   :4693812   Max.   :35   Max.   :44.000   Max.   :35.000  \n",
       "    response      \n",
       " Min.   : 0.0000  \n",
       " 1st Qu.: 0.0000  \n",
       " Median : 0.5000  \n",
       " Mean   : 0.9469  \n",
       " 3rd Qu.: 1.5000  \n",
       " Max.   :15.0000  "
      ]
     },
     "metadata": {},
     "output_type": "display_data"
    }
   ],
   "source": [
    "claim_response_usage <- left_join(users_dutchpay_usage, \n",
    "                                  users_dutchpay_response,\n",
    "                                  by = 'claim_id')\n",
    "glimpse(claim_response_usage)\n",
    "summary(claim_response_usage)"
   ]
  },
  {
   "cell_type": "markdown",
   "metadata": {},
   "source": [
    "- 상관분석"
   ]
  },
  {
   "cell_type": "code",
   "execution_count": 39,
   "metadata": {},
   "outputs": [
    {
     "data": {
      "image/png": "[encoded data removed]",
      "text/plain": [
       "Plot with title “Histogram of claim_response_usage$response”"
      ]
     },
     "metadata": {
      "image/png": {
       "height": 420,
       "width": 420
      },
      "text/plain": {
       "height": 420,
       "width": 420
      }
     },
     "output_type": "display_data"
    }
   ],
   "source": [
    "hist(claim_response_usage$response)"
   ]
  },
  {
   "cell_type": "code",
   "execution_count": 40,
   "metadata": {},
   "outputs": [
    {
     "data": {
      "image/png": "[encoded data removed]",
      "text/plain": [
       "Plot with title “Histogram of claim_response_usage$claim_no”"
      ]
     },
     "metadata": {
      "image/png": {
       "height": 420,
       "width": 420
      },
      "text/plain": {
       "height": 420,
       "width": 420
      }
     },
     "output_type": "display_data"
    }
   ],
   "source": [
    "hist(claim_response_usage$claim_no)"
   ]
  },
  {
   "cell_type": "code",
   "execution_count": 32,
   "metadata": {},
   "outputs": [
    {
     "data": {
      "image/png": "[encoded data removed]",
      "text/plain": [
       "plot without title"
      ]
     },
     "metadata": {
      "image/png": {
       "height": 420,
       "width": 420
      },
      "text/plain": {
       "height": 420,
       "width": 420
      }
     },
     "output_type": "display_data"
    }
   ],
   "source": [
    "plot(claim_response_usage$response, claim_response_usage$claim_no)"
   ]
  },
  {
   "cell_type": "markdown",
   "metadata": {},
   "source": [
    "연속형 변수이므로 피어슨 상관계수를 선택하여 두 변수간의 선형적 상관관계를 검증한다."
   ]
  },
  {
   "cell_type": "code",
   "execution_count": 42,
   "metadata": {},
   "outputs": [
    {
     "data": {
      "text/plain": [
       "\n",
       "\tPearson's product-moment correlation\n",
       "\n",
       "data:  claim_response_usage$response and claim_response_usage$claim_no\n",
       "t = 320.77, df = 169003, p-value < 2.2e-16\n",
       "alternative hypothesis: true correlation is greater than 0\n",
       "95 percent confidence interval:\n",
       " 0.612676 1.000000\n",
       "sample estimates:\n",
       "     cor \n",
       "0.615169 \n"
      ]
     },
     "metadata": {},
     "output_type": "display_data"
    }
   ],
   "source": [
    "cor.test(claim_response_usage$response, claim_response_usage$claim_no, \n",
    "         alternative=c('greater'), method = 'pearson')"
   ]
  },
  {
   "cell_type": "markdown",
   "metadata": {},
   "source": [
    "p-value < 2.2e-16으로 양의 상관관계가 매우 유의하다."
   ]
  },
  {
   "cell_type": "code",
   "execution_count": 43,
   "metadata": {},
   "outputs": [
    {
     "data": {
      "text/html": [
       "0.615169040206975"
      ],
      "text/latex": [
       "0.615169040206975"
      ],
      "text/markdown": [
       "0.615169040206975"
      ],
      "text/plain": [
       "[1] 0.615169"
      ]
     },
     "metadata": {},
     "output_type": "display_data"
    }
   ],
   "source": [
    "cor(claim_response_usage$response, claim_response_usage$claim_no, method = 'pearson')"
   ]
  },
  {
   "cell_type": "markdown",
   "metadata": {},
   "source": [
    "상관계수는 0.615로 아주 강한 양의 상관관계를 보인다.\n",
    "\n",
    "> '더치페이 요청에 대한 응답률이 높을수록 더치페이 서비스를 더 많이 사용한다'는 가설이 통계적으로 유의미하게 검증되었다."
   ]
  },
  {
   "cell_type": "code",
   "execution_count": null,
   "metadata": {},
   "outputs": [],
   "source": []
  }
 ],
 "metadata": {
  "kernelspec": {
   "display_name": "R",
   "language": "R",
   "name": "ir"
  },
  "language_info": {
   "codemirror_mode": "r",
   "file_extension": ".r",
   "mimetype": "text/x-r-source",
   "name": "R",
   "pygments_lexer": "r",
   "version": "3.6.2"
  }
 },
 "nbformat": 4,
 "nbformat_minor": 4
}
